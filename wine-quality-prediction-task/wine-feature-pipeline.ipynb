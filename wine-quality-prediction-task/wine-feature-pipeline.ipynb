{
 "cells": [
  {
   "cell_type": "code",
   "execution_count": 37,
   "metadata": {},
   "outputs": [],
   "source": [
    "import os\n",
    "import numpy as np\n",
    "import pandas as pd\n",
    "import matplotlib.pyplot as plt\n",
    "\n",
    "from sklearn.model_selection import train_test_split\n",
    "from sklearn.linear_model import LogisticRegression\n",
    "\n",
    "import hopsworks"
   ]
  },
  {
   "cell_type": "code",
   "execution_count": 38,
   "metadata": {},
   "outputs": [],
   "source": [
    "#Read HOPSWORKS_API_KEY from credentials.conf\n",
    "with open(\"credentials.conf\", \"r\") as f:\n",
    "    HOPSWORKS_API_KEY = f.read().split(\"=\")[1].strip()\n"
   ]
  },
  {
   "cell_type": "code",
   "execution_count": 39,
   "metadata": {},
   "outputs": [
    {
     "name": "stdout",
     "output_type": "stream",
     "text": [
      "Connection closed.\n",
      "Connected. Call `.close()` to terminate connection gracefully.\n",
      "\n",
      "Logged in to project, explore it here https://c.app.hopsworks.ai:443/p/197784\n",
      "Connected. Call `.close()` to terminate connection gracefully.\n"
     ]
    }
   ],
   "source": [
    "project = hopsworks.login()\n",
    "fs = project.get_feature_store()"
   ]
  },
  {
   "cell_type": "code",
   "execution_count": 42,
   "metadata": {},
   "outputs": [],
   "source": [
    "# Get a list of all CSV files in the data folder\n",
    "data_folder = 'data'\n",
    "csv_files = [f for f in os.listdir(data_folder) if f.endswith('.csv')]\n",
    "# Loop through the CSV files\n",
    "\n",
    "dataframes = []\n",
    "for idx, csv_file in enumerate(csv_files):\n",
    "        # Read the CSV file into a DataFrame\n",
    "        df = pd.read_csv(os.path.join(data_folder, csv_file), sep=\";\")\n",
    "        \n",
    "        # Drop duplicate rows\n",
    "        df = df.drop_duplicates()\n",
    "        if idx == 0:\n",
    "            df['wine_type'] = 0 # Red wine\n",
    "        else:\n",
    "            df['wine_type'] = 1 # White wine           \n",
    "\n",
    "        dataframes.append(df)\n",
    "        \n",
    "for df in dataframes:\n",
    "    df.loc[df.quality < 5, 'quality'] = 1\n",
    "    df.loc[df.quality == 5, 'quality'] = 2\n",
    "    df.loc[df.quality == 6, 'quality'] = 3\n",
    "    df.loc[df.quality > 6, 'quality'] = 4\n",
    "\n",
    "dataframe_tot = pd.concat(dataframes)\n",
    "dataframe_tot = dataframe_tot.drop_duplicates()\n",
    "\n",
    "keep_cols = ['alcohol', 'volatile acidity', 'chlorides', 'sulphates', 'quality', 'wine_type']\n",
    "dataframe_tot = dataframe_tot[keep_cols]\n",
    "\n",
    "#rename columns to remove spaces\n",
    "dataframe_tot.columns = dataframe_tot.columns.str.replace(' ', '_')\n",
    "\n",
    "X, y = dataframe_tot.drop('quality', axis=1), dataframe_tot['quality']\n",
    "y = pd.DataFrame(y, columns=['quality'])"
   ]
  },
  {
   "cell_type": "code",
   "execution_count": 43,
   "metadata": {},
   "outputs": [
    {
     "name": "stdout",
     "output_type": "stream",
     "text": [
      "Feature Group created successfully, explore it at \n",
      "https://c.app.hopsworks.ai:443/p/197784/fs/197703/fg/233869\n"
     ]
    },
    {
     "data": {
      "application/vnd.jupyter.widget-view+json": {
       "model_id": "4f53e8ac165a419eac7f3c065e8974ce",
       "version_major": 2,
       "version_minor": 0
      },
      "text/plain": [
       "Uploading Dataframe: 0.00% |          | Rows 0/5320 | Elapsed Time: 00:00 | Remaining Time: ?"
      ]
     },
     "metadata": {},
     "output_type": "display_data"
    },
    {
     "name": "stdout",
     "output_type": "stream",
     "text": [
      "Launching job: wine_features_1_offline_fg_materialization\n",
      "Job started successfully, you can follow the progress at \n",
      "https://c.app.hopsworks.ai/p/197784/jobs/named/wine_features_1_offline_fg_materialization/executions\n"
     ]
    },
    {
     "data": {
      "text/plain": [
       "(<hsfs.core.job.Job at 0x7f7a805861d0>, None)"
      ]
     },
     "execution_count": 43,
     "metadata": {},
     "output_type": "execute_result"
    }
   ],
   "source": [
    "feature_group = fs.get_or_create_feature_group(\n",
    "    name=\"wine_features\",\n",
    "    version=1,\n",
    "    primary_key=['alcohol', 'volatile_acidity', 'chlorides', 'sulphates', 'quality', 'wine_type'],\n",
    "    description=\"Dataset with wine features, also containing the quality label as well as wine type\",\n",
    ")\n",
    "feature_group.insert(dataframe_tot)"
   ]
  }
 ],
 "metadata": {
  "kernelspec": {
   "display_name": "ID2223",
   "language": "python",
   "name": "python3"
  },
  "language_info": {
   "codemirror_mode": {
    "name": "ipython",
    "version": 3
   },
   "file_extension": ".py",
   "mimetype": "text/x-python",
   "name": "python",
   "nbconvert_exporter": "python",
   "pygments_lexer": "ipython3",
   "version": "3.10.13"
  }
 },
 "nbformat": 4,
 "nbformat_minor": 2
}
